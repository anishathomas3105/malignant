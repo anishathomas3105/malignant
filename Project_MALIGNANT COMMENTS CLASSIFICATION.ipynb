{
 "cells": [
  {
   "cell_type": "code",
   "execution_count": null,
   "id": "022ae12d",
   "metadata": {},
   "outputs": [],
   "source": [
    "import pandas as pd\n",
    "import numpy as np\n",
    "from matplotlib import pyplot as plt\n",
    "import seaborn as sns\n",
    "\n",
    "import string\n",
    "from nltk.corpus import stopwords\n",
    "from nltk.tokenize import word_tokenize\n",
    "import nltk\n",
    "nltk.download('wordnet')\n",
    "\n",
    "from nltk.stem import PorterStemmer, WordNetLemmatizer\n",
    "from wordcloud import WordCloud\n",
    "from mpl_toolkits.mplot3d import Axes3D\n",
    "from sklearn.preprocessing import StandardScaler\n",
    "import matplotlib.pyplot as plt\n",
    "\n",
    "import warnings\n",
    "warnings.filterwarnings('ignore')"
   ]
  },
  {
   "cell_type": "code",
   "execution_count": null,
   "id": "94a471d1",
   "metadata": {},
   "outputs": [],
   "source": [
    "from sklearn.feature_extraction.text import TfidfVectorizer"
   ]
  },
  {
   "cell_type": "code",
   "execution_count": null,
   "id": "2ceee194",
   "metadata": {},
   "outputs": [],
   "source": [
    "test_df = pd.read_csv(\"test.csv\", index_col=False, sep = \"\\t\")\n",
    "train_df = pd.read_csv(\"train.csv\", index_col = False, sep =\"\\t\")"
   ]
  },
  {
   "cell_type": "code",
   "execution_count": null,
   "id": "a14787aa",
   "metadata": {},
   "outputs": [],
   "source": [
    "train_df"
   ]
  },
  {
   "cell_type": "code",
   "execution_count": null,
   "id": "426d3351",
   "metadata": {},
   "outputs": [],
   "source": [
    "test_df"
   ]
  },
  {
   "cell_type": "code",
   "execution_count": null,
   "id": "03bbb5f1",
   "metadata": {},
   "outputs": [],
   "source": [
    "train_df.info()"
   ]
  },
  {
   "cell_type": "code",
   "execution_count": null,
   "id": "1589b438",
   "metadata": {},
   "outputs": [],
   "source": [
    "test_df.info()"
   ]
  },
  {
   "cell_type": "code",
   "execution_count": null,
   "id": "da399983",
   "metadata": {},
   "outputs": [],
   "source": [
    "train_df.isnull().sum()"
   ]
  },
  {
   "cell_type": "code",
   "execution_count": null,
   "id": "3c6a9a38",
   "metadata": {},
   "outputs": [],
   "source": [
    "test_df.isnull().sum()"
   ]
  },
  {
   "cell_type": "code",
   "execution_count": null,
   "id": "7c665d0d",
   "metadata": {},
   "outputs": [],
   "source": [
    "train_df.shape"
   ]
  },
  {
   "cell_type": "code",
   "execution_count": null,
   "id": "6f31de7b",
   "metadata": {},
   "outputs": [],
   "source": [
    "test_df.shape"
   ]
  },
  {
   "cell_type": "code",
   "execution_count": null,
   "id": "dff13af5",
   "metadata": {},
   "outputs": [],
   "source": [
    "print(train_df.corr())\n",
    "print(sns.heatmap(train_df.corr(), annot=True))"
   ]
  },
  {
   "cell_type": "code",
   "execution_count": null,
   "id": "91e66128",
   "metadata": {},
   "outputs": [],
   "source": [
    "train_df.skew()"
   ]
  },
  {
   "cell_type": "code",
   "execution_count": null,
   "id": "31f2dd97",
   "metadata": {},
   "outputs": [],
   "source": [
    "col = ['malignant', 'highly_malignant', 'loathe', 'rude', 'abuse', 'threat']\n",
    "for i in col:\n",
    "    print(i)\n",
    "    print(train_df[i].value_counts())\n",
    "    sns.countplot(train_df[i])\n",
    "    plt.show()"
   ]
  },
  {
   "cell_type": "code",
   "execution_count": null,
   "id": "ef992381",
   "metadata": {},
   "outputs": [],
   "source": [
    "# Distribution graphs (histogram/bar graph) of column data\n",
    "def plotPerColumnDistribution(df, nGraphShown, nGraphPerRow):\n",
    "    nunique = test_df.nunique()\n",
    "    test_df = test_df[[col for col in df_test if nunique[col] > 1 and nunique[col] < 50]] # For displaying purposes, pick columns that have between 1 and 50 unique values\n",
    "    nRow, nCol = test_df.shape\n",
    "    columnNames = list(df)\n",
    "    nGraphRow = (nCol + nGraphPerRow - 1) / nGraphPerRow\n",
    "    plt.figure(num = None, figsize = (6 * nGraphPerRow, 8 * nGraphRow), dpi = 80, facecolor = 'w', edgecolor = 'k')\n",
    "    for i in range(min(nCol, nGraphShown)):\n",
    "        plt.subplot(nGraphRow, nGraphPerRow, i + 1)\n",
    "        columnDf = test_df.iloc[:, i]\n",
    "        if (not np.issubdtype(type(columnDf.iloc[0]), np.number)):\n",
    "            valueCounts = columnDf.value_counts()\n",
    "            valueCounts.plot.bar()\n",
    "        else:\n",
    "            columnDf.hist()\n",
    "        plt.ylabel('counts')\n",
    "        plt.xticks(rotation = 90)\n",
    "        plt.title(f'{columnNames[i]} (column {i})')\n",
    "    plt.tight_layout(pad = 1.0, w_pad = 1.0, h_pad = 1.0)\n",
    "    plt.show()\n"
   ]
  },
  {
   "cell_type": "code",
   "execution_count": null,
   "id": "a0bac995",
   "metadata": {},
   "outputs": [],
   "source": [
    "#train_df.dropna(axis=1,inplace=True)"
   ]
  },
  {
   "cell_type": "code",
   "execution_count": null,
   "id": "ea030329",
   "metadata": {},
   "outputs": [],
   "source": [
    "#train_df.isnull().sum()"
   ]
  },
  {
   "cell_type": "code",
   "execution_count": null,
   "id": "1c367ddd",
   "metadata": {},
   "outputs": [],
   "source": [
    "#test_df.dropna(axis=1,inplace=True)"
   ]
  },
  {
   "cell_type": "code",
   "execution_count": null,
   "id": "564b93ef",
   "metadata": {},
   "outputs": [],
   "source": [
    "#test_df.isnull().sum()"
   ]
  },
  {
   "cell_type": "code",
   "execution_count": null,
   "id": "89786a7f",
   "metadata": {},
   "outputs": [],
   "source": [
    "#train_df.info()"
   ]
  },
  {
   "cell_type": "code",
   "execution_count": null,
   "id": "d462d22f",
   "metadata": {},
   "outputs": [],
   "source": [
    "# Replace email addresses with 'email'\n",
    "train_df['comment_text'] = train_df['comment_text'].str.replace(r'^.+@[^\\.].*\\.[a-z]{2,}$','emailaddress')\n",
    "\n",
    "# Replace URLs with 'webaddress'\n",
    "train_df['comment_text'] = train_df['comment_text'].str.replace(r'^http\\://[a-zA-Z0-9\\-\\.]+\\.[a-zA-Z]{2,3}(/\\S*)?$','webaddress')\n",
    "\n",
    "# Replace money symbols with 'moneysymb' (£ can by typed with ALT key + 156)\n",
    "train_df['comment_text'] = train_df['comment_text'].str.replace(r'£|\\$', 'dollers')\n",
    "    \n",
    "# Replace 10 digit phone numbers (formats include paranthesis, spaces, no spaces, dashes) with 'phonenumber'\n",
    "train_df['comment_text'] = train_df['comment_text'].str.replace(r'^\\(?[\\d]{3}\\)?[\\s-]?[\\d]{3}[\\s-]?[\\d]{4}$','phonenumber')\n",
    "   \n",
    "# Replace numbers with 'number'\n",
    "train_df['comment_text'] = train_df['comment_text'].str.replace(r'\\d+(\\.\\d+)?', 'number')\n",
    "# Remove punctuation\n",
    "train_df['comment_text'] = train_df['comment_text'].str.replace(r'[^\\w\\d\\s]', ' ')\n",
    "\n",
    "# Replace whitespace between terms with a single space\n",
    "train_df['comment_text'] = train_df['comment_text'].str.replace(r'\\s+', ' ')\n",
    "\n",
    "# Remove leading and trailing whitespace\n",
    "train_df['comment_text'] = train_df['comment_text'].str.replace(r'^\\s+|\\s+?$', '')"
   ]
  },
  {
   "cell_type": "code",
   "execution_count": null,
   "id": "9985d1d1",
   "metadata": {},
   "outputs": [],
   "source": [
    "test_df['comment_text'] = test_df['comment_text'].str.replace(r'^\\s+/\\s+?$' , '')"
   ]
  },
  {
   "cell_type": "code",
   "execution_count": null,
   "id": "6721009e",
   "metadata": {},
   "outputs": [],
   "source": [
    "hams = train_df['comment_text'][train_df['malignant']==1]\n",
    "spam_cloud = WordCloud(width=600, height=400, background_color = 'black', max_words=50).generate(''. join(hams))\n",
    "plt.figure(figsize=(10,8), facecolor='k')\n",
    "plt.imshow(spam_cloud)\n",
    "plt.axis('off')\n",
    "plt.tight_layout(pad=0)\n",
    "plt.show()"
   ]
  },
  {
   "cell_type": "code",
   "execution_count": null,
   "id": "f723f819",
   "metadata": {},
   "outputs": [],
   "source": [
    "df_distribution = train_df[col].sum()\\\n",
    "                          .to_frame()\\\n",
    "                          .rename(columns={0: 'count'})\\\n",
    "                          .sort_values('count')\n",
    "df_distribution.plot.pie(y = 'count', \n",
    "                         title = 'Label distribution over comments', \n",
    "                         figsize=(5,5))\\\n",
    ".legend(loc = 'center left', bbox_to_anchor = (1.3, 0.5))"
   ]
  },
  {
   "cell_type": "code",
   "execution_count": null,
   "id": "0a4229dd",
   "metadata": {},
   "outputs": [],
   "source": [
    "lemmatizer = WordNetLemmatizer()\n",
    "stemmer = PorterStemmer()"
   ]
  },
  {
   "cell_type": "code",
   "execution_count": null,
   "id": "af315c15",
   "metadata": {
    "scrolled": true
   },
   "outputs": [],
   "source": [
    "for i in range(len(test_df['comment_text'])):\n",
    "    test_df['comment_text'][i] = test_df['comment_text'][i].lower()\n",
    "    j = []\n",
    "    for word in test_df['comment_text'][i].split().astype(str):\n",
    "        j.append(lemmatizer.lemmatize(word, pos=\"v\"))\n",
    "        test_df['comment_text'][i] = \"\".join(j)"
   ]
  },
  {
   "cell_type": "code",
   "execution_count": null,
   "id": "21dc8783",
   "metadata": {},
   "outputs": [],
   "source": [
    "for i in range(len(train_df['comment_text'])):\n",
    "    train_df['comment_text'][i] = train_df['comment_text'][i].lower()\n",
    "    j = []\n",
    "    for word in train_df['comment_text'][i].split():\n",
    "        j.append(lemmatizer.lemmatize(word, pos=\"v\"))\n",
    "        train_df['comment_text'][i] = \"\".join(j)"
   ]
  },
  {
   "cell_type": "code",
   "execution_count": null,
   "id": "4ca39420",
   "metadata": {},
   "outputs": [],
   "source": [
    "import xgboost\n",
    "import eli5\n",
    "from sklearn.naive_bayes import MultinomialNB\n",
    "from sklearn.model_selection import train_test_split\n",
    "from sklearn.metrics import accuracy_score, confusion_matrix, classification_report,roc_curve,roc_auc_score,auc\n",
    "from sklearn.model_selection import train_test_split\n",
    "from sklearn.metrics import accuracy_score,classification_report,confusion_matrix,f1_score\n",
    "from sklearn.linear_model import LogisticRegression\n",
    "from sklearn.model_selection import cross_val_score,GridSearchCV\n",
    "from sklearn.naive_bayes import MultinomialNB\n",
    "from sklearn.tree import DecisionTreeClassifier\n",
    "from sklearn.neighbors import KNeighborsClassifier\n",
    "from sklearn.ensemble import RandomForestClassifier,AdaBoostClassifier,GradientBoostingClassifier\n",
    "from sklearn.naive_bayes import GaussianNB\n",
    "from sklearn.linear_model import LogisticRegression\n",
    "from sklearn.svm import SVC\n",
    "from sklearn.tree import DecisionTreeClassifier\n",
    "\n",
    "import joblib"
   ]
  },
  {
   "cell_type": "code",
   "execution_count": null,
   "id": "5c7e52b4",
   "metadata": {},
   "outputs": [],
   "source": [
    "x = train_df.iloc[ :, 0:-1]\n",
    "y = train_df.iloc[:, -1]"
   ]
  },
  {
   "cell_type": "code",
   "execution_count": null,
   "id": "3162611b",
   "metadata": {},
   "outputs": [],
   "source": [
    "naive = MultinomialNB()"
   ]
  },
  {
   "cell_type": "code",
   "execution_count": null,
   "id": "5f3bb170",
   "metadata": {},
   "outputs": [],
   "source": [
    "tf_vec = TfidfVectorizer()"
   ]
  },
  {
   "cell_type": "code",
   "execution_count": null,
   "id": "20c3567e",
   "metadata": {},
   "outputs": [],
   "source": [
    "comment = train_df['comment_text']"
   ]
  },
  {
   "cell_type": "code",
   "execution_count": null,
   "id": "0cb90523",
   "metadata": {},
   "outputs": [],
   "source": [
    "x = tf_vec.fit_transform(comment)"
   ]
  },
  {
   "cell_type": "code",
   "execution_count": null,
   "id": "e7fbb836",
   "metadata": {},
   "outputs": [],
   "source": [
    "x_train,x_test,y_train,y_test = train_test_split(x,y, random_state=42)\n",
    "naive.fit(x_train,y_train)"
   ]
  },
  {
   "cell_type": "code",
   "execution_count": null,
   "id": "bf6102bf",
   "metadata": {},
   "outputs": [],
   "source": [
    "y_pred = naive.predict(x_test)"
   ]
  },
  {
   "cell_type": "code",
   "execution_count": null,
   "id": "6f153509",
   "metadata": {},
   "outputs": [],
   "source": [
    "joblib.dump(y_pred, \"model\")"
   ]
  },
  {
   "cell_type": "code",
   "execution_count": null,
   "id": "fb635dc9",
   "metadata": {},
   "outputs": [],
   "source": [
    "y_pred"
   ]
  },
  {
   "cell_type": "code",
   "execution_count": null,
   "id": "02ccadd9",
   "metadata": {},
   "outputs": [],
   "source": []
  },
  {
   "cell_type": "code",
   "execution_count": null,
   "id": "7f2f3c5c",
   "metadata": {},
   "outputs": [],
   "source": []
  },
  {
   "cell_type": "code",
   "execution_count": null,
   "id": "757a63b2",
   "metadata": {},
   "outputs": [],
   "source": [
    "https://github.com/Likhitha12345/malignant_comments_classifier/blob/main/malignant%20comments%20classifier.ipynb"
   ]
  },
  {
   "cell_type": "code",
   "execution_count": null,
   "id": "0329a015",
   "metadata": {},
   "outputs": [],
   "source": [
    "\n"
   ]
  }
 ],
 "metadata": {
  "kernelspec": {
   "display_name": "Python 3 (ipykernel)",
   "language": "python",
   "name": "python3"
  },
  "language_info": {
   "codemirror_mode": {
    "name": "ipython",
    "version": 3
   },
   "file_extension": ".py",
   "mimetype": "text/x-python",
   "name": "python",
   "nbconvert_exporter": "python",
   "pygments_lexer": "ipython3",
   "version": "3.9.7"
  }
 },
 "nbformat": 4,
 "nbformat_minor": 5
}
